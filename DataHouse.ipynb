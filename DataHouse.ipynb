{
 "cells": [
  {
   "cell_type": "markdown",
   "id": "dc454c9d-f703-4841-9fad-d6be36362818",
   "metadata": {},
   "source": [
    "Approach:\n",
    "1. Defind attributes that align with the requirements of the job, team, and company culture (e.g., experience, adaptability, humility, innovation, communication, leadership, bananaLover)\n",
    "2. Create a .json data set that includes arrays for 'teams' and 'applicants', with 10 data points each. Attribute scores should be randomly set in the range [0,10].\n",
    "3. Weight each attribute in the range [0, 10]\n",
    "4. Calculate the score of each team member and applicant.\n",
    "5. Compatibility scores will be determined by the ratio of the change in an applicant's score to the average team score, relative to the maximum score each person can achieve.\n",
    "6. Normalize the compatibility score using this formula:\n",
    "(value_to_normalized - min_val_in_data) / (max_val_in_data - min_val_in_data) * (new_max - new_min) + new_min\n"
   ]
  },
  {
   "cell_type": "code",
   "execution_count": 1,
   "id": "963cd245-2a54-4647-970d-07263463d51b",
   "metadata": {},
   "outputs": [],
   "source": [
    "import json\n",
    "import random\n",
    "import numpy as np\n",
    "import pandas as pd\n",
    "random.seed(5)"
   ]
  },
  {
   "cell_type": "code",
   "execution_count": 2,
   "id": "154f9f80-952d-4923-ab2b-d200c01a0afd",
   "metadata": {},
   "outputs": [
    {
     "data": {
      "text/plain": [
       "'data.json'"
      ]
     },
     "execution_count": 2,
     "metadata": {},
     "output_type": "execute_result"
    }
   ],
   "source": [
    "# Generate Data \n",
    "# Create 10 data points with names and attributes for the team and application \n",
    "\n",
    "teams = []\n",
    "applicants = []\n",
    "init_data = {\n",
    "    'teams':[],\n",
    "    'applicants':[]\n",
    "}\n",
    "\n",
    "# Random generating datapoint\n",
    "for i in range(1,11):\n",
    "    init_data[\"teams\"].append({\n",
    "        \"name\": f\"teamMember {i}\",\n",
    "        \"attributes\": {\n",
    "                \"experience\": random.randint(1,10),\n",
    "                \"adaptability\": random.randint(1,10),\n",
    "                \"humility\": random.randint(1,10),\n",
    "                \"innovation\": random.randint(1,10),\n",
    "                \"communication\": random.randint(1,10),\n",
    "                \"leadership\": random.randint(1,10),\n",
    "                \"bananaLover\": random.randint(1,10)\n",
    "        }\n",
    "    }\n",
    "    )\n",
    "    \n",
    "    init_data[\"applicants\"].append({\n",
    "        \"name\": f\"applicant {i}\",\n",
    "        \"attributes\": {\n",
    "                \"experience\": random.randint(1,10),\n",
    "                \"adaptability\": random.randint(1,10),\n",
    "                \"humility\": random.randint(1,10),\n",
    "                \"innovation\": random.randint(1,10),\n",
    "                \"communication\": random.randint(1,10),\n",
    "                \"leadership\": random.randint(1,10),\n",
    "                \"bananaLover\": random.randint(1,10)\n",
    "        }\n",
    "    }\n",
    "    )\n",
    "\n",
    "# Save data as data.json\n",
    "file_path = \"data.json\"\n",
    "with open(file_path, \"w\") as file:\n",
    "    json.dump(init_data, file, indent=4)\n",
    "\n",
    "file_path"
   ]
  },
  {
   "cell_type": "code",
   "execution_count": 3,
   "id": "b19e4a05-7958-4709-8a79-c8173405466a",
   "metadata": {},
   "outputs": [],
   "source": [
    "# Open the JSON file for reading\n",
    "with open(file_path, 'r') as file:\n",
    "    data = json.load(file)"
   ]
  },
  {
   "cell_type": "code",
   "execution_count": 28,
   "id": "04f76546-629e-4e61-ac78-5d7e31aad6b9",
   "metadata": {},
   "outputs": [],
   "source": [
    "# compatibility_predictor function\n",
    "def compatibility_predictor(data):\n",
    "    # set weights for each attribute\n",
    "    weights = {\n",
    "        \"experience\": 6,\n",
    "        \"adaptability\": 5,\n",
    "        \"humility\": 4,\n",
    "        \"innovation\": 6,\n",
    "        \"communication\": 8,\n",
    "        \"leadership\": 6,\n",
    "        \"bananaLover\": 2\n",
    "    }\n",
    "\n",
    "    full_point = {\n",
    "        \"experience\": 10,\n",
    "        \"adaptability\": 10,\n",
    "        \"humility\": 10,\n",
    "        \"innovation\": 10,\n",
    "        \"communication\": 10,\n",
    "        \"leadership\": 10,\n",
    "        \"bananaLover\": 10\n",
    "    }\n",
    "\n",
    "    # Total score = attribute * weight\n",
    "    def calculate_score(attributes, weights):\n",
    "        return sum(attributes[key] * weights[key] for key in attributes)\n",
    "\n",
    "    # Calculate each applicant's score\n",
    "    applicant_scores = {applicant['name']: calculate_score(applicant['attributes'], weights) for applicant in data['applicants']}\n",
    "    \n",
    "    # Calculate each team member's score\n",
    "    team_scores = {team['name']: calculate_score(team['attributes'], weights) for team in data['teams']}\n",
    "\n",
    "    # Calculate average team score\n",
    "    average_team_score = sum(team_scores.values()) / len(team_scores)\n",
    "\n",
    "    # Max score each person will get\n",
    "    max_score = calculate_score(full_point, weights)\n",
    "\n",
    "    # Calculate applicant compatibility score\n",
    "    applicants_score = {name: round((score - average_team_score)/max_score, 2) for name, score in applicant_scores.items()}\n",
    "\n",
    "    # Normalize applicants_score in the range [0, 1]\n",
    "    scores = list(applicants_score.values())\n",
    "    min_val = min(scores)\n",
    "    max_val = max(scores)\n",
    "    \n",
    "    # Target range\n",
    "    new_min = 0\n",
    "    new_max = 1\n",
    "    \n",
    "    # Apply min-max normalization\n",
    "    normalized_score = [(x - min_val) / (max_val - min_val) * (new_max - new_min) + new_min for x in scores]\n",
    "    normalized_data = dict(zip(applicants_score.keys(), normalized_score))\n",
    "\n",
    "    # Save applicants_score as score_data.json\n",
    "    file_path = \"score_data.json\"\n",
    "    with open(file_path, \"w\") as file:\n",
    "        json.dump(normalized_data, file, indent=4)"
   ]
  },
  {
   "cell_type": "code",
   "execution_count": 29,
   "id": "93cf467b-9a9a-473a-8913-7e81d439b3db",
   "metadata": {},
   "outputs": [
    {
     "data": {
      "text/plain": [
       "{'applicant 1': 0.27272727272727276,\n",
       " 'applicant 2': 0.09090909090909094,\n",
       " 'applicant 3': 0.30303030303030304,\n",
       " 'applicant 4': 0.21212121212121213,\n",
       " 'applicant 5': 0.696969696969697,\n",
       " 'applicant 6': 1.0,\n",
       " 'applicant 7': 0.9696969696969697,\n",
       " 'applicant 8': 0.7575757575757576,\n",
       " 'applicant 9': 0.0,\n",
       " 'applicant 10': 0.30303030303030304}"
      ]
     },
     "execution_count": 29,
     "metadata": {},
     "output_type": "execute_result"
    }
   ],
   "source": [
    "compatibility_predictor(data)\n",
    "with open('score_data.json', 'r') as file:\n",
    "    score_data = json.load(file)\n",
    "\n",
    "score_data"
   ]
  },
  {
   "cell_type": "code",
   "execution_count": null,
   "id": "f78fa1b9-a149-45b0-8c3d-57ee89df8268",
   "metadata": {},
   "outputs": [],
   "source": []
  }
 ],
 "metadata": {
  "kernelspec": {
   "display_name": "Python 3 (ipykernel)",
   "language": "python",
   "name": "python3"
  },
  "language_info": {
   "codemirror_mode": {
    "name": "ipython",
    "version": 3
   },
   "file_extension": ".py",
   "mimetype": "text/x-python",
   "name": "python",
   "nbconvert_exporter": "python",
   "pygments_lexer": "ipython3",
   "version": "3.11.5"
  }
 },
 "nbformat": 4,
 "nbformat_minor": 5
}
